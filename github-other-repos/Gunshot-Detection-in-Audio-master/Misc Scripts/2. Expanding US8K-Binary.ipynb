{
 "cells": [
  {
   "cell_type": "markdown",
   "metadata": {},
   "source": [
    "**This notebook was used to expand US8K-Binary by adding 74 gunshot files, downloaded from http://soundbible.com/tags-gun.html**"
   ]
  },
  {
   "cell_type": "code",
   "execution_count": 2,
   "metadata": {},
   "outputs": [],
   "source": [
    "import matplotlib.pyplot as plt\n",
    "import pandas as pd\n",
    "import numpy as np\n",
    "import sys\n",
    "import os"
   ]
  },
  {
   "cell_type": "code",
   "execution_count": 3,
   "metadata": {},
   "outputs": [
    {
     "name": "stdout",
     "output_type": "stream",
     "text": [
      "Index(['fsID', 'start', 'end', 'salience', 'fold', 'classID', 'class'], dtype='object')\n",
      "\n",
      "Classes:\n",
      "{'no_gun_shot', 'gun_shot'}\n",
      "\n",
      "Number of folds: 10\n"
     ]
    },
    {
     "name": "stderr",
     "output_type": "stream",
     "text": [
      "C:\\Users\\G3NZ\\Anaconda3\\envs\\OpenCV-master-py3\\lib\\site-packages\\ipykernel_launcher.py:2: FutureWarning: from_csv is deprecated. Please use read_csv(...) instead. Note that some of the default arguments are different, so please refer to the documentation for from_csv when changing your function calls\n",
      "  \n"
     ]
    }
   ],
   "source": [
    "dataset_csv=r\"D:\\ML\\Datasets\\Sound\\UrbanSound8K-binary\\metadata\\UrbanSound8K.csv\"\n",
    "df = pd.DataFrame.from_csv(dataset_csv)\n",
    "print(df.columns)\n",
    "print(\"\\nClasses:\")\n",
    "print(set(df[\"class\"]))\n",
    "\n",
    "folds = len(set(df[\"fold\"]))\n",
    "print(\"\\nNumber of folds: \" + str(folds))"
   ]
  },
  {
   "cell_type": "code",
   "execution_count": 4,
   "metadata": {},
   "outputs": [],
   "source": [
    "new_dataset_dir = r\"D:\\ML\\Datasets\\Sound\\Downloaded Gunshots\"\n",
    "new_files = os.listdir(new_dataset_dir)"
   ]
  },
  {
   "cell_type": "code",
   "execution_count": 7,
   "metadata": {},
   "outputs": [],
   "source": [
    "from shutil import copyfile\n",
    "\n",
    "for i in range(0, len(new_files)): # last file in previous customized dataset was 2399-xxxxx.wav\n",
    "    copyfile(os.path.join(new_dataset_dir,new_files[i]), \n",
    "             os.path.join(new_dataset_dir, \"renamedfiles\", str(2400+i) + \"-1-0-0\" + \".wav\"))"
   ]
  },
  {
   "cell_type": "code",
   "execution_count": 9,
   "metadata": {},
   "outputs": [],
   "source": [
    "new_files = os.listdir(os.path.join(new_dataset_dir, \"renamedfiles\"))\n",
    "files_per_fold = len(new_files) // folds\n",
    "df2 = df.copy()\n",
    "\n",
    "u8k_dir = r\"D:\\ML\\Datasets\\Sound\\UrbanSound8K-binary\\audio\"\n",
    "renamed_files_dir = os.path.join(new_dataset_dir, \"renamedfiles\")\n",
    "curr_fold = 1\n",
    "fold_file_num = 0\n",
    "for i in range(len(new_files)):\n",
    "    filename = new_files[i]\n",
    "    splits = filename.split(\"-\")\n",
    "    df.loc[filename] = [splits[0], 0, 0, 1, curr_fold, 6, \"gun_shot\"]\n",
    "    copyfile(os.path.join(renamed_files_dir, filename), os.path.join(u8k_dir, \"fold\" + str(curr_fold), filename))\n",
    "    fold_file_num += 1\n",
    "    if fold_file_num > files_per_fold:\n",
    "        curr_fold += 1\n",
    "        fold_file_num = 0"
   ]
  },
  {
   "cell_type": "code",
   "execution_count": 10,
   "metadata": {},
   "outputs": [],
   "source": [
    "df.to_csv(r'D:\\ML\\Datasets\\Sound\\UrbanSound8K-binary\\metadata\\UrbanSound8K-modified.csv')"
   ]
  },
  {
   "cell_type": "code",
   "execution_count": null,
   "metadata": {},
   "outputs": [],
   "source": []
  }
 ],
 "metadata": {
  "hide_input": false,
  "kernelspec": {
   "display_name": "OpenCV-master-py3",
   "language": "python",
   "name": "opencv-master-py3"
  },
  "language_info": {
   "codemirror_mode": {
    "name": "ipython",
    "version": 3
   },
   "file_extension": ".py",
   "mimetype": "text/x-python",
   "name": "python",
   "nbconvert_exporter": "python",
   "pygments_lexer": "ipython3",
   "version": "3.6.8"
  },
  "toc": {
   "base_numbering": 1,
   "nav_menu": {},
   "number_sections": true,
   "sideBar": true,
   "skip_h1_title": false,
   "title_cell": "Table of Contents",
   "title_sidebar": "Contents",
   "toc_cell": false,
   "toc_position": {},
   "toc_section_display": true,
   "toc_window_display": false
  },
  "varInspector": {
   "cols": {
    "lenName": 16,
    "lenType": 16,
    "lenVar": 40
   },
   "kernels_config": {
    "python": {
     "delete_cmd_postfix": "",
     "delete_cmd_prefix": "del ",
     "library": "var_list.py",
     "varRefreshCmd": "print(var_dic_list())"
    },
    "r": {
     "delete_cmd_postfix": ") ",
     "delete_cmd_prefix": "rm(",
     "library": "var_list.r",
     "varRefreshCmd": "cat(var_dic_list()) "
    }
   },
   "types_to_exclude": [
    "module",
    "function",
    "builtin_function_or_method",
    "instance",
    "_Feature"
   ],
   "window_display": false
  }
 },
 "nbformat": 4,
 "nbformat_minor": 2
}
