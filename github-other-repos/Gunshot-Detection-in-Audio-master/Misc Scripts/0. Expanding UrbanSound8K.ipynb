{
 "cells": [
  {
   "cell_type": "markdown",
   "metadata": {},
   "source": [
    "**This notebook was used to expand UrbanSound8K by adding 2400 gunshot recordings from MIVIA and AudioSet.**"
   ]
  },
  {
   "cell_type": "code",
   "execution_count": 1,
   "metadata": {},
   "outputs": [],
   "source": [
    "import matplotlib.pyplot as plt\n",
    "import pandas as pd\n",
    "import numpy as np\n",
    "import sys\n",
    "import os"
   ]
  },
  {
   "cell_type": "code",
   "execution_count": 49,
   "metadata": {},
   "outputs": [
    {
     "name": "stdout",
     "output_type": "stream",
     "text": [
      "Index(['fsID', 'start', 'end', 'salience', 'fold', 'classID', 'class'], dtype='object')\n",
      "\n",
      "Classes:\n",
      "{'air_conditioner', 'children_playing', 'street_music', 'jackhammer', 'dog_bark', 'siren', 'drilling', 'car_horn', 'engine_idling', 'gun_shot'}\n",
      "\n",
      "Number of folds: 10\n"
     ]
    },
    {
     "name": "stderr",
     "output_type": "stream",
     "text": [
      "C:\\Users\\G3NZ\\Anaconda3\\envs\\OpenCV-master-py3\\lib\\site-packages\\ipykernel_launcher.py:2: FutureWarning: from_csv is deprecated. Please use read_csv(...) instead. Note that some of the default arguments are different, so please refer to the documentation for from_csv when changing your function calls\n",
      "  \n"
     ]
    }
   ],
   "source": [
    "dataset_csv=r\"D:\\ML\\Datasets\\Sound\\UrbanSound8K.tar_2\\UrbanSound8K\\metadata\\UrbanSound8K.csv\"\n",
    "df = pd.DataFrame.from_csv(dataset_csv)\n",
    "print(df.columns)\n",
    "print(\"\\nClasses:\")\n",
    "print(set(df[\"class\"]))\n",
    "\n",
    "folds = len(set(df[\"fold\"]))\n",
    "print(\"\\nNumber of folds: \" + str(folds))"
   ]
  },
  {
   "cell_type": "code",
   "execution_count": 50,
   "metadata": {},
   "outputs": [],
   "source": [
    "new_dataset_dir = r\"D:\\ML\\Datasets\\Sound\\Gunshots Dataset, Files and Models\\gunshots\"\n",
    "new_files = os.listdir(new_dataset_dir)"
   ]
  },
  {
   "cell_type": "code",
   "execution_count": null,
   "metadata": {},
   "outputs": [],
   "source": [
    "from shutil import copyfile\n",
    "\n",
    "for i in range(0, len(new_files)):\n",
    "    copyfile(os.path.join(new_dataset_dir,new_files[i]), os.path.join(new_dataset_dir, \"renamedfiles\", str(i) + \"-6-0-0\" + \".wav\"))"
   ]
  },
  {
   "cell_type": "code",
   "execution_count": 63,
   "metadata": {},
   "outputs": [
    {
     "name": "stdout",
     "output_type": "stream",
     "text": [
      "240\n",
      "2\n",
      "3\n",
      "4\n",
      "5\n",
      "6\n",
      "7\n",
      "8\n",
      "9\n",
      "10\n"
     ]
    }
   ],
   "source": [
    "new_files = os.listdir(os.path.join(new_dataset_dir, \"renamedfiles\"))\n",
    "files_per_fold = len(new_files) // folds\n",
    "df2 = df.copy()\n",
    "\n",
    "u8k_dir = r\"D:\\ML\\Datasets\\Sound\\UrbanSound8K-modified\\UrbanSound8K\\audio\"\n",
    "renamed_files_dir = r\"D:\\ML\\Datasets\\Sound\\Gunshots Dataset, Files and Models\\gunshots\\renamedfiles\"\n",
    "curr_fold = 1\n",
    "fold_file_num = 0\n",
    "for i in range(len(new_files)):\n",
    "    filename = new_files[i]\n",
    "    splits = filename.split(\"-\")\n",
    "    df.loc[filename] = [splits[0], 0, 0, 1, curr_fold, 6, \"gun_shot\"]\n",
    "    copyfile(os.path.join(renamed_files_dir, filename), os.path.join(u8k_dir, \"fold\" + str(curr_fold), filename))\n",
    "    fold_file_num += 1\n",
    "    if fold_file_num > files_per_fold:\n",
    "        curr_fold += 1\n",
    "        fold_file_num = 0"
   ]
  },
  {
   "cell_type": "code",
   "execution_count": 64,
   "metadata": {},
   "outputs": [],
   "source": [
    "df.to_csv(r'D:\\ML\\Datasets\\Sound\\UrbanSound8K.tar_2\\UrbanSound8K\\metadata\\UrbanSound8K-modified.csv')"
   ]
  },
  {
   "cell_type": "code",
   "execution_count": null,
   "metadata": {},
   "outputs": [],
   "source": []
  }
 ],
 "metadata": {
  "hide_input": false,
  "kernelspec": {
   "display_name": "OpenCV-master-py3",
   "language": "python",
   "name": "opencv-master-py3"
  },
  "language_info": {
   "codemirror_mode": {
    "name": "ipython",
    "version": 3
   },
   "file_extension": ".py",
   "mimetype": "text/x-python",
   "name": "python",
   "nbconvert_exporter": "python",
   "pygments_lexer": "ipython3",
   "version": "3.6.8"
  },
  "toc": {
   "base_numbering": 1,
   "nav_menu": {},
   "number_sections": true,
   "sideBar": true,
   "skip_h1_title": false,
   "title_cell": "Table of Contents",
   "title_sidebar": "Contents",
   "toc_cell": false,
   "toc_position": {},
   "toc_section_display": true,
   "toc_window_display": false
  },
  "varInspector": {
   "cols": {
    "lenName": 16,
    "lenType": 16,
    "lenVar": 40
   },
   "kernels_config": {
    "python": {
     "delete_cmd_postfix": "",
     "delete_cmd_prefix": "del ",
     "library": "var_list.py",
     "varRefreshCmd": "print(var_dic_list())"
    },
    "r": {
     "delete_cmd_postfix": ") ",
     "delete_cmd_prefix": "rm(",
     "library": "var_list.r",
     "varRefreshCmd": "cat(var_dic_list()) "
    }
   },
   "types_to_exclude": [
    "module",
    "function",
    "builtin_function_or_method",
    "instance",
    "_Feature"
   ],
   "window_display": false
  }
 },
 "nbformat": 4,
 "nbformat_minor": 2
}
