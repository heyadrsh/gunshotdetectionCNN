{
 "cells": [
  {
   "cell_type": "markdown",
   "metadata": {},
   "source": [
    "**This notebook was used to increase number of folds in US8K-Binary from 10 to 40. This was done to make it easier to work with on a PC with low RAM memory.**"
   ]
  },
  {
   "cell_type": "code",
   "execution_count": 1,
   "metadata": {},
   "outputs": [],
   "source": [
    "import matplotlib.pyplot as plt\n",
    "import pandas as pd\n",
    "import numpy as np\n",
    "import sys\n",
    "import os"
   ]
  },
  {
   "cell_type": "code",
   "execution_count": 2,
   "metadata": {},
   "outputs": [
    {
     "name": "stderr",
     "output_type": "stream",
     "text": [
      "C:\\Users\\G3NZ\\Anaconda3\\envs\\OpenCV-master-py3\\lib\\site-packages\\ipykernel_launcher.py:3: FutureWarning: from_csv is deprecated. Please use read_csv(...) instead. Note that some of the default arguments are different, so please refer to the documentation for from_csv when changing your function calls\n",
      "  This is separate from the ipykernel package so we can avoid doing imports until\n"
     ]
    }
   ],
   "source": [
    "dataset_csv=r\"D:\\Internship\\Codes\\Audio Gunshots Classification\\UrbanSound8K-binary\\metadata\\UrbanSound8K-modified.csv\"\n",
    "audio_dir = r\"D:\\Internship\\Codes\\Audio Gunshots Classification\\UrbanSound8K-binary\\audio\"\n",
    "df = pd.DataFrame.from_csv(dataset_csv)\n",
    "\n",
    "new_df = None\n",
    "new_df = pd.DataFrame(data=None, columns=df.columns, index=df.index)\n",
    "new_df = new_df.dropna()\n",
    "new_df.index.name=\"file_name\""
   ]
  },
  {
   "cell_type": "code",
   "execution_count": null,
   "metadata": {},
   "outputs": [],
   "source": [
    "from shutil import copyfile\n",
    "new_dataset_path = r\"D:\\ML\\Datasets\\Sound\\UrbanSound8K-folds-increased\\Audio\"\n",
    "\n",
    "total_files = len(df.index)\n",
    "num_of_folds = 40\n",
    "files_per_fold = total_files//num_of_folds\n",
    "\n",
    "curr_fold = 1\n",
    "curr_file = 0\n",
    "fold_file_num = 0 # counts number of files per fold\n",
    "\n",
    "for _, row in df.iterrows():\n",
    "        \n",
    "    try:\n",
    "        os.mkdir(os.path.join(new_dataset_path, \"fold\"+str(curr_fold)))\n",
    "    except FileExistsError:\n",
    "        pass\n",
    "    \n",
    "    path = os.path.join(audio_dir, \"fold\"+str(row[\"fold\"]), row.name)\n",
    "\n",
    "\n",
    "    new_name = str(curr_file) + \"-\" + str(curr_fold) + \"-\" + str(row[\"classID\"]) + \".wav\"\n",
    "    new_path = os.path.join(new_dataset_path, \"fold\"+str(curr_fold), new_name)\n",
    "    copyfile(path, new_path)\n",
    "    \n",
    "    try:\n",
    "        copyfile(path, new_path)\n",
    "    except FileNotFoundError:\n",
    "        pass\n",
    "    \n",
    "    curr_file += 1\n",
    "    fold_file_num += 1\n",
    "    new_df.loc[new_name] = [curr_file, row[\"start\"], row[\"end\"], row[\"salience\"], curr_fold, row[\"classID\"], row[\"class\"]]\n",
    "    if fold_file_num >= files_per_fold:\n",
    "        curr_fold += 1\n",
    "        # reset variable when new fold starts\n",
    "        fold_file_num = 0"
   ]
  },
  {
   "cell_type": "code",
   "execution_count": 5,
   "metadata": {},
   "outputs": [],
   "source": [
    "new_df.to_csv(r'D:\\ML\\Datasets\\Sound\\UrbanSound8K-folds-increased\\Metadata\\UrbanSound8K-modified.csv')"
   ]
  },
  {
   "cell_type": "code",
   "execution_count": null,
   "metadata": {},
   "outputs": [],
   "source": []
  }
 ],
 "metadata": {
  "hide_input": false,
  "kernelspec": {
   "display_name": "OpenCV-master-py3",
   "language": "python",
   "name": "opencv-master-py3"
  },
  "language_info": {
   "codemirror_mode": {
    "name": "ipython",
    "version": 3
   },
   "file_extension": ".py",
   "mimetype": "text/x-python",
   "name": "python",
   "nbconvert_exporter": "python",
   "pygments_lexer": "ipython3",
   "version": "3.6.8"
  },
  "toc": {
   "base_numbering": 1,
   "nav_menu": {},
   "number_sections": true,
   "sideBar": true,
   "skip_h1_title": false,
   "title_cell": "Table of Contents",
   "title_sidebar": "Contents",
   "toc_cell": false,
   "toc_position": {},
   "toc_section_display": true,
   "toc_window_display": false
  },
  "varInspector": {
   "cols": {
    "lenName": 16,
    "lenType": 16,
    "lenVar": 40
   },
   "kernels_config": {
    "python": {
     "delete_cmd_postfix": "",
     "delete_cmd_prefix": "del ",
     "library": "var_list.py",
     "varRefreshCmd": "print(var_dic_list())"
    },
    "r": {
     "delete_cmd_postfix": ") ",
     "delete_cmd_prefix": "rm(",
     "library": "var_list.r",
     "varRefreshCmd": "cat(var_dic_list()) "
    }
   },
   "types_to_exclude": [
    "module",
    "function",
    "builtin_function_or_method",
    "instance",
    "_Feature"
   ],
   "window_display": false
  }
 },
 "nbformat": 4,
 "nbformat_minor": 2
}
